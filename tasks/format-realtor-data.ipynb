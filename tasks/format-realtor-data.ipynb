{
 "cells": [
  {
   "cell_type": "markdown",
   "id": "3273d9e7-f384-46c1-bb5c-dc5f9c1940c4",
   "metadata": {},
   "source": [
    "# Format data for housing project\n",
    "1. [Format FIPs, county name and date](#1.-Format-FIPs,-county-name-and-date)\n",
    "2. [Select categories (median_listing_price, median_days_on_market, new_listing_count, active_listing_count)](#2.-Select-categories)\n",
    "3. Filter out counties that don't have data for every month\n",
    "4. Filter out counties with less than a certain amount of active listings\n",
    "5. Format data for the latest month\n",
    "6. [Format metadata](6.-Format-metadata)\n",
    "7. [Format timeseries data and save to file for each fips code](7.-Format-timeseries-data-and-save-to-file-for-each-fips-code)\n",
    "8. Format national data"
   ]
  },
  {
   "cell_type": "code",
   "execution_count": 1,
   "id": "e4ff4701-c81d-41a0-b8a5-ede4665f4be6",
   "metadata": {},
   "outputs": [],
   "source": [
    "import pandas as pd\n",
    "import json\n",
    "import warnings\n",
    "\n",
    "warnings.filterwarnings(action='ignore')"
   ]
  },
  {
   "cell_type": "code",
   "execution_count": 2,
   "id": "88d8a7f4-b1a4-4f11-aa34-f9559847844f",
   "metadata": {},
   "outputs": [],
   "source": [
    "df = pd.read_csv('data/RDC_Inventory_Core_Metrics_County_History.csv')"
   ]
  },
  {
   "cell_type": "markdown",
   "id": "124b9450-2c77-48e4-8ae5-659d0f91df28",
   "metadata": {},
   "source": [
    "## Common functions"
   ]
  },
  {
   "cell_type": "code",
   "execution_count": 3,
   "id": "98c60578-3306-438f-9fc2-bc6b3d5050b9",
   "metadata": {},
   "outputs": [],
   "source": [
    "def format_date(x):\n",
    "    return str(x)[0:4] + '-' + str(x)[4:6] + '-01'\n",
    "\n",
    "def format_fips(x):\n",
    "    return str(x).zfill(5)\n",
    "\n",
    "selected_categories = ['month_date', 'quality_flag', 'median_listing_price', 'median_days_on_market', 'new_listing_count', 'active_listing_count'];\n"
   ]
  },
  {
   "cell_type": "markdown",
   "id": "d0a7ab74-1cd9-4979-95ef-e1a766d4bfb2",
   "metadata": {},
   "source": [
    "## 1. Format FIPs, county name and date"
   ]
  },
  {
   "cell_type": "markdown",
   "id": "5857afa3-05be-4d99-bde1-ac46b7eb27f6",
   "metadata": {},
   "source": [
    "#### Format date"
   ]
  },
  {
   "cell_type": "code",
   "execution_count": 4,
   "id": "3f7e70eb-10ad-4950-804c-71c6d32c8b2f",
   "metadata": {},
   "outputs": [],
   "source": [
    "df['month_date'] = df['month_date_yyyymm'].apply(format_date)\n"
   ]
  },
  {
   "cell_type": "markdown",
   "id": "a3ecf4e8-51f1-43ff-9653-c75e50394f6b",
   "metadata": {},
   "source": [
    "#### Format FIPs"
   ]
  },
  {
   "cell_type": "code",
   "execution_count": 5,
   "id": "489b0dd8-6f7a-4dec-8570-238192a8e261",
   "metadata": {},
   "outputs": [],
   "source": [
    "df['county_fips'] = df['county_fips'].apply(format_fips)"
   ]
  },
  {
   "cell_type": "code",
   "execution_count": 6,
   "id": "f5342047-6be7-405d-89a4-221cbd7bd048",
   "metadata": {},
   "outputs": [],
   "source": [
    "df_meta = pd.read_csv('data/county_fips.csv')\n",
    "df_meta.columns = ['county_fips', 'county_name']\n",
    "df_meta['county_fips'] = df_meta['county_fips'].apply(lambda x: str(x).zfill(5))\n",
    "df_meta = df_meta.set_index('county_fips')"
   ]
  },
  {
   "cell_type": "markdown",
   "id": "436d3de9-7620-4ce9-8d50-473c671b124c",
   "metadata": {},
   "source": [
    "#### Merge formatted datasets"
   ]
  },
  {
   "cell_type": "code",
   "execution_count": 7,
   "id": "2947498d-f977-40e7-9070-3603deabf60a",
   "metadata": {},
   "outputs": [],
   "source": [
    "df_merge = pd.merge(df, df_meta, on='county_fips', suffixes=('_old', ''))"
   ]
  },
  {
   "cell_type": "markdown",
   "id": "bcfc1ae6-12ef-4138-ab44-ad2aa9e5fab3",
   "metadata": {},
   "source": [
    "## 2. Select categories\n",
    "- median_listing_price\n",
    "- median_days_on_market\n",
    "- new_listing_count\n",
    "- active_listing_count)"
   ]
  },
  {
   "cell_type": "code",
   "execution_count": 8,
   "id": "d958b55c-e91c-4abe-ae45-1c53a799d46c",
   "metadata": {},
   "outputs": [],
   "source": [
    "df_selected = df_merge[selected_categories + ['county_name', 'county_fips']]\n"
   ]
  },
  {
   "cell_type": "markdown",
   "id": "5ec5bba7-98eb-460e-bb6a-fdaa168aa4fc",
   "metadata": {},
   "source": [
    "## 3. Filter out counties that don't have data for every month"
   ]
  },
  {
   "cell_type": "code",
   "execution_count": 9,
   "id": "073cf232-0d4c-473a-9aac-e09fafc91325",
   "metadata": {},
   "outputs": [],
   "source": [
    "df_six_years = df_selected[df_selected['month_date'] >= '2018-01-01']"
   ]
  },
  {
   "cell_type": "code",
   "execution_count": 10,
   "id": "e644652c-0564-457e-83a6-be52beed0e12",
   "metadata": {},
   "outputs": [],
   "source": [
    "df_totals = pd.DataFrame(df_six_years.groupby('county_fips')['month_date'].nunique().sort_values(ascending=False))"
   ]
  },
  {
   "cell_type": "code",
   "execution_count": 11,
   "id": "63a35215-9057-4150-badb-3c2a1b66a265",
   "metadata": {},
   "outputs": [
    {
     "data": {
      "text/plain": [
       "np.int64(88)"
      ]
     },
     "execution_count": 11,
     "metadata": {},
     "output_type": "execute_result"
    }
   ],
   "source": [
    "unique_month_count = df_totals['month_date'].max()\n",
    "unique_month_count"
   ]
  },
  {
   "cell_type": "code",
   "execution_count": 12,
   "id": "4bd54c3c-c1a7-42b5-bb19-d208934658e2",
   "metadata": {},
   "outputs": [],
   "source": [
    "df_complete = df_totals[df_totals['month_date'] == unique_month_count]"
   ]
  },
  {
   "cell_type": "code",
   "execution_count": 13,
   "id": "33bf6148-7c86-4557-bd2a-1313ba738628",
   "metadata": {},
   "outputs": [
    {
     "data": {
      "text/html": [
       "<div>\n",
       "<style scoped>\n",
       "    .dataframe tbody tr th:only-of-type {\n",
       "        vertical-align: middle;\n",
       "    }\n",
       "\n",
       "    .dataframe tbody tr th {\n",
       "        vertical-align: top;\n",
       "    }\n",
       "\n",
       "    .dataframe thead th {\n",
       "        text-align: right;\n",
       "    }\n",
       "</style>\n",
       "<table border=\"1\" class=\"dataframe\">\n",
       "  <thead>\n",
       "    <tr style=\"text-align: right;\">\n",
       "      <th></th>\n",
       "      <th>month_date</th>\n",
       "    </tr>\n",
       "    <tr>\n",
       "      <th>county_fips</th>\n",
       "      <th></th>\n",
       "    </tr>\n",
       "  </thead>\n",
       "  <tbody>\n",
       "    <tr>\n",
       "      <th>01001</th>\n",
       "      <td>88</td>\n",
       "    </tr>\n",
       "    <tr>\n",
       "      <th>39073</th>\n",
       "      <td>88</td>\n",
       "    </tr>\n",
       "    <tr>\n",
       "      <th>39055</th>\n",
       "      <td>88</td>\n",
       "    </tr>\n",
       "    <tr>\n",
       "      <th>39057</th>\n",
       "      <td>88</td>\n",
       "    </tr>\n",
       "    <tr>\n",
       "      <th>39059</th>\n",
       "      <td>88</td>\n",
       "    </tr>\n",
       "    <tr>\n",
       "      <th>...</th>\n",
       "      <td>...</td>\n",
       "    </tr>\n",
       "    <tr>\n",
       "      <th>22005</th>\n",
       "      <td>88</td>\n",
       "    </tr>\n",
       "    <tr>\n",
       "      <th>22003</th>\n",
       "      <td>88</td>\n",
       "    </tr>\n",
       "    <tr>\n",
       "      <th>22001</th>\n",
       "      <td>88</td>\n",
       "    </tr>\n",
       "    <tr>\n",
       "      <th>21237</th>\n",
       "      <td>88</td>\n",
       "    </tr>\n",
       "    <tr>\n",
       "      <th>21239</th>\n",
       "      <td>88</td>\n",
       "    </tr>\n",
       "  </tbody>\n",
       "</table>\n",
       "<p>2998 rows × 1 columns</p>\n",
       "</div>"
      ],
      "text/plain": [
       "             month_date\n",
       "county_fips            \n",
       "01001                88\n",
       "39073                88\n",
       "39055                88\n",
       "39057                88\n",
       "39059                88\n",
       "...                 ...\n",
       "22005                88\n",
       "22003                88\n",
       "22001                88\n",
       "21237                88\n",
       "21239                88\n",
       "\n",
       "[2998 rows x 1 columns]"
      ]
     },
     "execution_count": 13,
     "metadata": {},
     "output_type": "execute_result"
    }
   ],
   "source": [
    "df_complete"
   ]
  },
  {
   "cell_type": "code",
   "execution_count": 14,
   "id": "81d6f848-c3b7-494f-878f-4fefe4f38f46",
   "metadata": {},
   "outputs": [],
   "source": [
    "df_selected_counties = df_six_years[df_six_years['county_fips'].isin(df_complete.index.tolist())]"
   ]
  },
  {
   "cell_type": "markdown",
   "id": "7bdc1a0b-2150-49d5-a3c9-bce193295bd8",
   "metadata": {},
   "source": [
    "## 4. Filter out counties with less than a certain amount of active listings"
   ]
  },
  {
   "cell_type": "code",
   "execution_count": 15,
   "id": "044d9948-dbd7-4a42-a0de-2e78ad9ebe44",
   "metadata": {},
   "outputs": [],
   "source": [
    "df_non_zero_listings = df_selected_counties[df_selected_counties['active_listing_count'] > 10]\n",
    "df_non_zero_listings = df_non_zero_listings[~df_selected_counties['active_listing_count'].isna()]"
   ]
  },
  {
   "cell_type": "code",
   "execution_count": 16,
   "id": "9389288e-7807-4cc8-b360-e2d5b68e8631",
   "metadata": {},
   "outputs": [],
   "source": [
    "df_listing_totals = pd.DataFrame(df_non_zero_listings.groupby('county_fips')['month_date'].nunique())"
   ]
  },
  {
   "cell_type": "code",
   "execution_count": 17,
   "id": "d4d9a2e7-15fa-4286-ad09-936d8dc79b61",
   "metadata": {},
   "outputs": [],
   "source": [
    "df_filtered_counties = df_six_years[df_six_years['county_fips'].isin(df_listing_totals.index)]"
   ]
  },
  {
   "cell_type": "markdown",
   "id": "146d0f22-cc3e-41a2-b821-07fd10e8825e",
   "metadata": {},
   "source": [
    "## 5. Format data for the latest month"
   ]
  },
  {
   "cell_type": "code",
   "execution_count": 33,
   "id": "d18cc8a7-b497-48cf-b03e-83557f4d57bd",
   "metadata": {},
   "outputs": [],
   "source": [
    "df_population = pd.read_csv('data/co-est2024-formatted.csv', encoding_errors='ignore')"
   ]
  },
  {
   "cell_type": "code",
   "execution_count": 35,
   "id": "242d68aa-b740-4421-968d-3ef37e4ea155",
   "metadata": {},
   "outputs": [],
   "source": [
    "df_population['FIPS'] = df_population['FIPS'].apply(format_fips)"
   ]
  },
  {
   "cell_type": "code",
   "execution_count": 36,
   "id": "376f111e-835f-4884-8000-74dedc3c4ee7",
   "metadata": {},
   "outputs": [
    {
     "data": {
      "text/html": [
       "<div>\n",
       "<style scoped>\n",
       "    .dataframe tbody tr th:only-of-type {\n",
       "        vertical-align: middle;\n",
       "    }\n",
       "\n",
       "    .dataframe tbody tr th {\n",
       "        vertical-align: top;\n",
       "    }\n",
       "\n",
       "    .dataframe thead th {\n",
       "        text-align: right;\n",
       "    }\n",
       "</style>\n",
       "<table border=\"1\" class=\"dataframe\">\n",
       "  <thead>\n",
       "    <tr style=\"text-align: right;\">\n",
       "      <th></th>\n",
       "      <th>STNAME</th>\n",
       "      <th>CTYNAME</th>\n",
       "      <th>POPESTIMATE2024</th>\n",
       "      <th>FIPS</th>\n",
       "    </tr>\n",
       "  </thead>\n",
       "  <tbody>\n",
       "    <tr>\n",
       "      <th>0</th>\n",
       "      <td>Alabama</td>\n",
       "      <td>Alabama</td>\n",
       "      <td>5157699</td>\n",
       "      <td>01000</td>\n",
       "    </tr>\n",
       "    <tr>\n",
       "      <th>1</th>\n",
       "      <td>Alabama</td>\n",
       "      <td>Autauga County</td>\n",
       "      <td>61464</td>\n",
       "      <td>01001</td>\n",
       "    </tr>\n",
       "    <tr>\n",
       "      <th>2</th>\n",
       "      <td>Alabama</td>\n",
       "      <td>Baldwin County</td>\n",
       "      <td>261608</td>\n",
       "      <td>01003</td>\n",
       "    </tr>\n",
       "    <tr>\n",
       "      <th>3</th>\n",
       "      <td>Alabama</td>\n",
       "      <td>Barbour County</td>\n",
       "      <td>24358</td>\n",
       "      <td>01005</td>\n",
       "    </tr>\n",
       "    <tr>\n",
       "      <th>4</th>\n",
       "      <td>Alabama</td>\n",
       "      <td>Bibb County</td>\n",
       "      <td>22258</td>\n",
       "      <td>01007</td>\n",
       "    </tr>\n",
       "    <tr>\n",
       "      <th>...</th>\n",
       "      <td>...</td>\n",
       "      <td>...</td>\n",
       "      <td>...</td>\n",
       "      <td>...</td>\n",
       "    </tr>\n",
       "    <tr>\n",
       "      <th>3190</th>\n",
       "      <td>Wyoming</td>\n",
       "      <td>Sweetwater County</td>\n",
       "      <td>41273</td>\n",
       "      <td>56037</td>\n",
       "    </tr>\n",
       "    <tr>\n",
       "      <th>3191</th>\n",
       "      <td>Wyoming</td>\n",
       "      <td>Teton County</td>\n",
       "      <td>23272</td>\n",
       "      <td>56039</td>\n",
       "    </tr>\n",
       "    <tr>\n",
       "      <th>3192</th>\n",
       "      <td>Wyoming</td>\n",
       "      <td>Uinta County</td>\n",
       "      <td>20621</td>\n",
       "      <td>56041</td>\n",
       "    </tr>\n",
       "    <tr>\n",
       "      <th>3193</th>\n",
       "      <td>Wyoming</td>\n",
       "      <td>Washakie County</td>\n",
       "      <td>7662</td>\n",
       "      <td>56043</td>\n",
       "    </tr>\n",
       "    <tr>\n",
       "      <th>3194</th>\n",
       "      <td>Wyoming</td>\n",
       "      <td>Weston County</td>\n",
       "      <td>6866</td>\n",
       "      <td>56045</td>\n",
       "    </tr>\n",
       "  </tbody>\n",
       "</table>\n",
       "<p>3195 rows × 4 columns</p>\n",
       "</div>"
      ],
      "text/plain": [
       "       STNAME            CTYNAME  POPESTIMATE2024   FIPS\n",
       "0     Alabama            Alabama          5157699  01000\n",
       "1     Alabama     Autauga County            61464  01001\n",
       "2     Alabama     Baldwin County           261608  01003\n",
       "3     Alabama     Barbour County            24358  01005\n",
       "4     Alabama        Bibb County            22258  01007\n",
       "...       ...                ...              ...    ...\n",
       "3190  Wyoming  Sweetwater County            41273  56037\n",
       "3191  Wyoming       Teton County            23272  56039\n",
       "3192  Wyoming       Uinta County            20621  56041\n",
       "3193  Wyoming    Washakie County             7662  56043\n",
       "3194  Wyoming      Weston County             6866  56045\n",
       "\n",
       "[3195 rows x 4 columns]"
      ]
     },
     "execution_count": 36,
     "metadata": {},
     "output_type": "execute_result"
    }
   ],
   "source": [
    "df_population"
   ]
  },
  {
   "cell_type": "code",
   "execution_count": 37,
   "id": "85b927cf-6a65-494c-a66b-f3b5a73996ff",
   "metadata": {},
   "outputs": [],
   "source": [
    "latest_month = df_filtered_counties['month_date'].max()"
   ]
  },
  {
   "cell_type": "code",
   "execution_count": 38,
   "id": "5cca050d-99f1-46a1-acb7-38214c107001",
   "metadata": {},
   "outputs": [],
   "source": [
    "last_year = str(int(latest_month[0:4]) - 1) + latest_month[4:]"
   ]
  },
  {
   "cell_type": "code",
   "execution_count": 39,
   "id": "07afdaa8-b9f9-4aaf-8dfe-00abc9433fd1",
   "metadata": {},
   "outputs": [],
   "source": [
    "df_latest_month = df_filtered_counties[(df_filtered_counties['month_date'] == latest_month) | (df_filtered_counties['month_date'] == last_year)]\n"
   ]
  },
  {
   "cell_type": "code",
   "execution_count": 47,
   "id": "37842bc3-5161-47cb-91d3-fac8f7b26fb6",
   "metadata": {},
   "outputs": [],
   "source": [
    "df_pivot_yoy = df_latest_month.pivot(index='county_fips', columns='month_date', values=['median_listing_price', 'active_listing_count'])\n",
    "\n",
    "df_pivot_yoy['median_listing_price_yoy'] = (df_pivot_yoy[('median_listing_price', latest_month)] - df_pivot_yoy[('median_listing_price', last_year)]) / df_pivot_yoy[('median_listing_price', last_year)]\n",
    "df_pivot_yoy['active_listing_yoy'] = (df_pivot_yoy[('active_listing_count', latest_month)] - df_pivot_yoy[('active_listing_count', last_year)]) / df_pivot_yoy[('active_listing_count', last_year)]\n",
    "df_pivot_yoy = df_pivot_yoy.drop([('median_listing_price', last_year), ('active_listing_count', last_year)], axis=1)\n",
    "df_pivot_yoy = df_pivot_yoy.reset_index()\n",
    "df_pivot_yoy.columns = df_pivot_yoy.columns.droplevel(-1)\n",
    "\n",
    "df_pivot_yoy = df_pivot_yoy.merge(df_meta, how='left', on='county_fips')\n",
    "df_pivot_yoy = df_pivot_yoy.merge(df_population[['FIPS', 'POPESTIMATE2024']], how='left', left_on='county_fips', right_on='FIPS')\n",
    "df_pivot_yoy = df_pivot_yoy.drop('FIPS', axis=1)\n",
    "df_pivot_yoy = df_pivot_yoy.rename({'POPESTIMATE2024': 'population_2024'}, axis=1)"
   ]
  },
  {
   "cell_type": "code",
   "execution_count": 57,
   "id": "ab7feddd-737c-429c-8881-32361805b7ad",
   "metadata": {},
   "outputs": [],
   "source": [
    "df_pivot_yoy.to_json('../public/data/latest.json', orient='records')"
   ]
  },
  {
   "cell_type": "markdown",
   "id": "09b2dc61-9077-4daa-a0a9-e46769fd3771",
   "metadata": {},
   "source": [
    "## 6. Format metadata\n",
    "Save to `../src/assets/fips.json` as `{'county_name': '', 'county_fips': ''}`"
   ]
  },
  {
   "cell_type": "code",
   "execution_count": 22,
   "id": "5874e500-9265-4846-a714-da12a342cf85",
   "metadata": {},
   "outputs": [],
   "source": [
    "df_unique_counties = df_filtered_counties.drop_duplicates('county_fips')"
   ]
  },
  {
   "cell_type": "code",
   "execution_count": 24,
   "id": "39feb70a-36f6-489e-bc47-c37c2ce300a5",
   "metadata": {},
   "outputs": [],
   "source": [
    "df_unique_counties[['county_name', 'county_fips']].to_json('../src/assets/fips.json', orient='records')"
   ]
  },
  {
   "cell_type": "markdown",
   "id": "b48001f0-e1a1-4fbc-8fa9-aba964f02975",
   "metadata": {},
   "source": [
    "## 7. Format timeseries data and save to file for each fips code\n",
    "Save to `../public/data/counties/[FIPS].json`"
   ]
  },
  {
   "cell_type": "code",
   "execution_count": 23,
   "id": "b55cfa56-b870-44c8-9cff-853bc208dd96",
   "metadata": {},
   "outputs": [],
   "source": [
    "def format_moving_average(df):\n",
    "    df = df.sort_values('month_date')\n",
    "    df['median_listing_price_rolling'] = df['median_listing_price'].rolling(window=12).mean()\n",
    "    df['active_listing_count_rolling'] = df['active_listing_count'].rolling(window=12).mean()\n",
    "    return df"
   ]
  },
  {
   "cell_type": "code",
   "execution_count": 28,
   "id": "22882263-612e-4e68-b8a0-e8dc55c5763d",
   "metadata": {},
   "outputs": [],
   "source": [
    "for county_fips in df_unique_counties['county_fips'].tolist():\n",
    "    df_selected_fips = df_filtered_counties[df_filtered_counties['county_fips'] == county_fips]\n",
    "    # print(df_selected_fips)\n",
    "    df_selected_fips['month_date'] = df_selected_fips['month_date'].apply(str)\n",
    "    df_selected_fips = format_moving_average(df_selected_fips)\n",
    "    obj = {\n",
    "        # 'median_listing_price', 'median_days_on_market', 'new_listing_count', 'active_listing_count']\n",
    "        'county_name': df_selected_fips.reset_index()['county_name'][0],\n",
    "        'median_listing_price': json.loads(df_selected_fips[['month_date', 'median_listing_price']].to_json(orient='values')),\n",
    "        'median_listing_price_rolling': json.loads(df_selected_fips[['month_date', 'median_listing_price_rolling']].to_json(orient='values')),\n",
    "        'active_listing_count_rolling': json.loads(df_selected_fips[['month_date', 'active_listing_count_rolling']].to_json(orient='values')),\n",
    "        'active_listing_count': json.loads(df_selected_fips[['month_date', 'active_listing_count']].to_json(orient='values')),\n",
    "        'median_days_on_market': json.loads(df_selected_fips[['month_date', 'median_days_on_market']].to_json(orient='values'))\n",
    "    }\n",
    "    with open('../public/data/counties/%s.json' % county_fips, 'w') as outfile:\n",
    "        json.dump(obj, outfile)"
   ]
  },
  {
   "cell_type": "markdown",
   "id": "174c3ee1-9509-4b1a-bdde-5ebb745dd1cc",
   "metadata": {},
   "source": [
    "## 7. Format national data"
   ]
  },
  {
   "cell_type": "code",
   "execution_count": 56,
   "id": "d935950a-0ec5-465e-8055-b4c06d6a7ffd",
   "metadata": {},
   "outputs": [],
   "source": [
    "df_national = pd.read_csv('data/RDC_Inventory_Core_Metrics_Country_History.csv')"
   ]
  },
  {
   "cell_type": "code",
   "execution_count": 57,
   "id": "e239ea33-7ba5-44dd-9822-0fe50f778f86",
   "metadata": {},
   "outputs": [],
   "source": [
    "df_national = df_national[df_national['country'] == 'United States']\n",
    "df_national['month_date'] = df_national['month_date_yyyymm'].apply(format_date)\n",
    "df_national = df_national[selected_categories]\n",
    "df_national = format_moving_average(df_national)"
   ]
  },
  {
   "cell_type": "code",
   "execution_count": 59,
   "id": "43c9efbe-c298-47bb-9d4d-e51d4fac9222",
   "metadata": {},
   "outputs": [],
   "source": [
    "obj = {\n",
    "    # 'median_listing_price', 'median_days_on_market', 'new_listing_count', 'active_listing_count']\n",
    "    'median_listing_price': json.loads(df_national[['month_date', 'median_listing_price']].to_json(orient='values')),\n",
    "    'median_listing_price_rolling': json.loads(df_national[['month_date', 'median_listing_price_rolling']].to_json(orient='values')),\n",
    "    'active_listing_count_rolling': json.loads(df_national[['month_date', 'active_listing_count_rolling']].to_json(orient='values')),\n",
    "    'active_listing_count': json.loads(df_national[['month_date', 'active_listing_count']].to_json(orient='values')),\n",
    "    'median_days_on_market': json.loads(df_national[['month_date', 'median_days_on_market']].to_json(orient='values'))\n",
    "}\n",
    "with open('../public/data/national.json', 'w') as outfile:\n",
    "    json.dump(obj, outfile)"
   ]
  },
  {
   "cell_type": "code",
   "execution_count": null,
   "id": "b117acd0-c559-4b98-bf9e-d16b2a3a79ca",
   "metadata": {},
   "outputs": [],
   "source": []
  }
 ],
 "metadata": {
  "kernelspec": {
   "display_name": "Python 3 (ipykernel)",
   "language": "python",
   "name": "python3"
  },
  "language_info": {
   "codemirror_mode": {
    "name": "ipython",
    "version": 3
   },
   "file_extension": ".py",
   "mimetype": "text/x-python",
   "name": "python",
   "nbconvert_exporter": "python",
   "pygments_lexer": "ipython3",
   "version": "3.9.6"
  }
 },
 "nbformat": 4,
 "nbformat_minor": 5
}
